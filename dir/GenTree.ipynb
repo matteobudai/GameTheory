{
  "cells": [
    {
      "attachments": {},
      "cell_type": "markdown",
      "metadata": {
        "id": "KECm3hdYVZTO"
      },
      "source": [
        "### Geneartor\n",
        "\n",
        "**Idea**: We gonna solve the Husbend/Wife problem with options to move (F)ood, (C)lean, (N)othing\n",
        "**Strutigies**: Looks like FCN, FNC, etc."
      ]
    },
    {
      "cell_type": "code",
      "execution_count": 2,
      "metadata": {
        "id": "p_rl40P_KKFi"
      },
      "outputs": [],
      "source": [
        "import numpy as np\n",
        "import random "
      ]
    },
    {
      "cell_type": "code",
      "execution_count": null,
      "metadata": {
        "id": "uNiHniDkKO1Q"
      },
      "outputs": [],
      "source": [
        "D = input()\n",
        "D = int(D)"
      ]
    },
    {
      "cell_type": "code",
      "execution_count": 18,
      "metadata": {
        "id": "egEURz8cLABF"
      },
      "outputs": [],
      "source": [
        "random.seed(42)\n",
        "\n",
        "output = []\n",
        "\n",
        "for i in range(D):\n",
        "\n",
        "  temp = []\n",
        "\n",
        "  FCN = ['FCN', random.randint(2, 105), random.randint(1, 110)]\n",
        "  FNC = ['FNC',random.randint(3, 106), random.randint(1, 120)]\n",
        "  FNN = ['FNN',random.randint(4, 107), random.randint(1, 130)]\n",
        "  CFN = ['CFN',random.randint(5, 108), random.randint(1, 140)]\n",
        "  CNF = ['CNF',random.randint(6, 109), random.randint(1, 150)]\n",
        "  CNN = ['CNN',random.randint(7, 125), random.randint(1, 160)]\n",
        "  NFC = ['NFC',random.randint(8, 152), random.randint(1, 170)]\n",
        "  NFN = ['NFN',random.randint(9, 122), random.randint(1, 180)]\n",
        "  NCF = ['NCF',random.randint(10, 133), random.randint(1, 190)]\n",
        "  NCN = ['NCN',random.randint(11, 144), random.randint(1, 101)]\n",
        "  NNF = ['NNF',random.randint(12, 155), random.randint(1, 102)]\n",
        "  NNC = ['NNC',random.randint(13, 166), random.randint(1, 103)]\n",
        "  NNN = ['NNN',random.randint(14, 199), random.randint(1, 104)]\n",
        "\n",
        "  temp = [FCN, FNC, FNN, CFN, CNF, CNN, NFC, NFN, NCF, NCN, NNF, NNC, NNN]\n",
        "\n",
        "  output.append(temp)\n",
        "\n",
        "print(len(output))"
      ]
    },
    {
      "cell_type": "code",
      "execution_count": 21,
      "metadata": {
        "colab": {
          "base_uri": "https://localhost:8080/"
        },
        "id": "eZC5C4xTNOyw",
        "outputId": "0b1ae4db-bad8-4737-eb76-4f057e6fd28a"
      },
      "outputs": [
        {
          "name": "stdout",
          "output_type": "stream",
          "text": [
            "[[0], array([7, 2]), array([9, 7, 3, 6]), array([5, 1, 5, 4, 1, 8, 5, 7]), array([6, 6, 4, 4, 7, 9, 2, 8, 7, 2, 1, 7, 8, 7, 1, 9])]\n"
          ]
        }
      ],
      "source": [
        "# Possible sol algorithm (TOY ONE is enough) \n",
        "# IN PROGRESS \n",
        "\n",
        "def Sol(tree):\n",
        "  #left subtree\n",
        "  if output[0][2] > (output[1][2] & output[2][2]):\n",
        "    del output[1]\n",
        "    del output[2]\n",
        "  if output[1][1] >  output[2][1]:\n",
        "    del output[2]\n",
        "  else:\n",
        "    del output[1]\n",
        "\n",
        "  #center subtree\n",
        "  if output[3][2] > (output[4][2] & output[5][2]):\n",
        "    del output[4]\n",
        "    del output[5]\n",
        "  if output[4][1] >  output[5][1]:\n",
        "    del output[5]\n",
        "  else:\n",
        "    del output[4]\n",
        "\n",
        "  #right subtree\n",
        "  if (output[6][2] or output[7][2]) > (output[8][2] or output[9][2]):\n",
        "    del output[8]\n",
        "    del output[9]\n",
        "\n",
        "  if (output[6][2] or output[7][2]) < (output[8][2] or output[9][2]):\n",
        "    del output[8]\n",
        "    del output[9]\n"
      ]
    }
  ],
  "metadata": {
    "colab": {
      "provenance": []
    },
    "kernelspec": {
      "display_name": "Python 3",
      "name": "python3"
    },
    "language_info": {
      "name": "python"
    }
  },
  "nbformat": 4,
  "nbformat_minor": 0
}
