{
  "cells": [
    {
      "cell_type": "markdown",
      "metadata": {
        "id": "KECm3hdYVZTO"
      },
      "source": [
        "### Geneartor\n",
        "\n",
        "**Idea**: Insert the depth for the tree and then algorithm set values on random (init value = 0) \n",
        "\n",
        "Since to print tree could be a hard idea -- algorithm to solve the game should be based on backpropagation concept\n",
        "\n",
        "Each level is has ```pow(2, level)```elemenets and by pairs connect to parent node. Such search could help to find best strategie. \n"
      ]
    },
    {
      "cell_type": "code",
      "execution_count": 2,
      "metadata": {
        "id": "p_rl40P_KKFi"
      },
      "outputs": [],
      "source": [
        "import numpy as np"
      ]
    },
    {
      "cell_type": "code",
      "execution_count": null,
      "metadata": {
        "id": "uNiHniDkKO1Q"
      },
      "outputs": [],
      "source": [
        "D = input()\n",
        "D = int(D)"
      ]
    },
    {
      "cell_type": "code",
      "execution_count": 18,
      "metadata": {
        "id": "egEURz8cLABF"
      },
      "outputs": [],
      "source": [
        "array = []\n",
        "for i in range(D):\n",
        "  array.append(np.random.randint(1, 10,  size=(pow(2, i))))\n",
        "\n",
        "array[0] = [0] "
      ]
    },
    {
      "cell_type": "code",
      "execution_count": 21,
      "metadata": {
        "colab": {
          "base_uri": "https://localhost:8080/"
        },
        "id": "eZC5C4xTNOyw",
        "outputId": "0b1ae4db-bad8-4737-eb76-4f057e6fd28a"
      },
      "outputs": [
        {
          "name": "stdout",
          "output_type": "stream",
          "text": [
            "[[0], array([7, 2]), array([9, 7, 3, 6]), array([5, 1, 5, 4, 1, 8, 5, 7]), array([6, 6, 4, 4, 7, 9, 2, 8, 7, 2, 1, 7, 8, 7, 1, 9])]\n"
          ]
        }
      ],
      "source": [
        "print(array)"
      ]
    }
  ],
  "metadata": {
    "colab": {
      "provenance": []
    },
    "kernelspec": {
      "display_name": "Python 3",
      "name": "python3"
    },
    "language_info": {
      "name": "python"
    }
  },
  "nbformat": 4,
  "nbformat_minor": 0
}
